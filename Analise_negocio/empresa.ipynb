{
 "cells": [
  {
   "cell_type": "markdown",
   "metadata": {},
   "source": [
    "# Análise de dados  com alguns KPI's de negócios"
   ]
  },
  {
   "cell_type": "code",
   "execution_count": 1,
   "metadata": {},
   "outputs": [],
   "source": [
    "#Importando Bibliotecas \n",
    "import pandas as pd\n",
    "import matplotlib.pyplot as plt\n",
    "plt.style.use(\"seaborn\")\n"
   ]
  },
  {
   "cell_type": "code",
   "execution_count": 2,
   "metadata": {},
   "outputs": [],
   "source": [
    "#Criando DataFrame\n",
    "df = pd.read_excel('dataset\\Vendas.xlsx', engine=\"openpyxl\")"
   ]
  },
  {
   "cell_type": "code",
   "execution_count": 4,
   "metadata": {},
   "outputs": [
    {
     "data": {
      "text/html": [
       "<div>\n",
       "<style scoped>\n",
       "    .dataframe tbody tr th:only-of-type {\n",
       "        vertical-align: middle;\n",
       "    }\n",
       "\n",
       "    .dataframe tbody tr th {\n",
       "        vertical-align: top;\n",
       "    }\n",
       "\n",
       "    .dataframe thead th {\n",
       "        text-align: right;\n",
       "    }\n",
       "</style>\n",
       "<table border=\"1\" class=\"dataframe\">\n",
       "  <thead>\n",
       "    <tr style=\"text-align: right;\">\n",
       "      <th></th>\n",
       "      <th>DataEmissao</th>\n",
       "      <th>NFe</th>\n",
       "      <th>cdProduto</th>\n",
       "      <th>Produto</th>\n",
       "      <th>Grupo Produto</th>\n",
       "      <th>Linha Produto</th>\n",
       "      <th>cdVendedor</th>\n",
       "      <th>Vendedor</th>\n",
       "      <th>Supervisor</th>\n",
       "      <th>Gerente</th>\n",
       "      <th>Equipe Vendas</th>\n",
       "      <th>QtdItens</th>\n",
       "      <th>ValorUnitario</th>\n",
       "    </tr>\n",
       "  </thead>\n",
       "  <tbody>\n",
       "    <tr>\n",
       "      <th>0</th>\n",
       "      <td>2017-01-16</td>\n",
       "      <td>1491303</td>\n",
       "      <td>271</td>\n",
       "      <td>Produto 271</td>\n",
       "      <td>Fermentos</td>\n",
       "      <td>Alimentos</td>\n",
       "      <td>144</td>\n",
       "      <td>Felipe Goncalves</td>\n",
       "      <td>Sofia Ribeiro</td>\n",
       "      <td>Gabriel Azevedo</td>\n",
       "      <td>Online</td>\n",
       "      <td>20</td>\n",
       "      <td>1.93</td>\n",
       "    </tr>\n",
       "    <tr>\n",
       "      <th>1</th>\n",
       "      <td>2017-01-16</td>\n",
       "      <td>1491303</td>\n",
       "      <td>168</td>\n",
       "      <td>Produto 168</td>\n",
       "      <td>Café em Cápsulas</td>\n",
       "      <td>Alimentos</td>\n",
       "      <td>144</td>\n",
       "      <td>Felipe Goncalves</td>\n",
       "      <td>Sofia Ribeiro</td>\n",
       "      <td>Gabriel Azevedo</td>\n",
       "      <td>Online</td>\n",
       "      <td>4</td>\n",
       "      <td>6.30</td>\n",
       "    </tr>\n",
       "    <tr>\n",
       "      <th>2</th>\n",
       "      <td>2017-01-16</td>\n",
       "      <td>1491303</td>\n",
       "      <td>118</td>\n",
       "      <td>Produto 118</td>\n",
       "      <td>Temperos</td>\n",
       "      <td>Alimentos</td>\n",
       "      <td>144</td>\n",
       "      <td>Felipe Goncalves</td>\n",
       "      <td>Sofia Ribeiro</td>\n",
       "      <td>Gabriel Azevedo</td>\n",
       "      <td>Online</td>\n",
       "      <td>27</td>\n",
       "      <td>2.81</td>\n",
       "    </tr>\n",
       "    <tr>\n",
       "      <th>3</th>\n",
       "      <td>2017-01-16</td>\n",
       "      <td>1491303</td>\n",
       "      <td>1126</td>\n",
       "      <td>Produto 1126</td>\n",
       "      <td>Farofas</td>\n",
       "      <td>Alimentos</td>\n",
       "      <td>144</td>\n",
       "      <td>Felipe Goncalves</td>\n",
       "      <td>Sofia Ribeiro</td>\n",
       "      <td>Gabriel Azevedo</td>\n",
       "      <td>Online</td>\n",
       "      <td>3</td>\n",
       "      <td>28.82</td>\n",
       "    </tr>\n",
       "    <tr>\n",
       "      <th>4</th>\n",
       "      <td>2017-01-16</td>\n",
       "      <td>1491303</td>\n",
       "      <td>1521</td>\n",
       "      <td>Produto 1521</td>\n",
       "      <td>Café em Cápsulas</td>\n",
       "      <td>Alimentos</td>\n",
       "      <td>144</td>\n",
       "      <td>Felipe Goncalves</td>\n",
       "      <td>Sofia Ribeiro</td>\n",
       "      <td>Gabriel Azevedo</td>\n",
       "      <td>Online</td>\n",
       "      <td>6</td>\n",
       "      <td>3.73</td>\n",
       "    </tr>\n",
       "  </tbody>\n",
       "</table>\n",
       "</div>"
      ],
      "text/plain": [
       "  DataEmissao      NFe  cdProduto       Produto     Grupo Produto  \\\n",
       "0  2017-01-16  1491303        271   Produto 271         Fermentos   \n",
       "1  2017-01-16  1491303        168   Produto 168  Café em Cápsulas   \n",
       "2  2017-01-16  1491303        118   Produto 118          Temperos   \n",
       "3  2017-01-16  1491303       1126  Produto 1126           Farofas   \n",
       "4  2017-01-16  1491303       1521  Produto 1521  Café em Cápsulas   \n",
       "\n",
       "  Linha Produto  cdVendedor          Vendedor     Supervisor          Gerente  \\\n",
       "0     Alimentos         144  Felipe Goncalves  Sofia Ribeiro  Gabriel Azevedo   \n",
       "1     Alimentos         144  Felipe Goncalves  Sofia Ribeiro  Gabriel Azevedo   \n",
       "2     Alimentos         144  Felipe Goncalves  Sofia Ribeiro  Gabriel Azevedo   \n",
       "3     Alimentos         144  Felipe Goncalves  Sofia Ribeiro  Gabriel Azevedo   \n",
       "4     Alimentos         144  Felipe Goncalves  Sofia Ribeiro  Gabriel Azevedo   \n",
       "\n",
       "  Equipe Vendas  QtdItens  ValorUnitario  \n",
       "0        Online        20           1.93  \n",
       "1        Online         4           6.30  \n",
       "2        Online        27           2.81  \n",
       "3        Online         3          28.82  \n",
       "4        Online         6           3.73  "
      ]
     },
     "execution_count": 4,
     "metadata": {},
     "output_type": "execute_result"
    }
   ],
   "source": [
    "# 5 primeiras linhas\n",
    "df.head(5)"
   ]
  },
  {
   "cell_type": "code",
   "execution_count": 5,
   "metadata": {},
   "outputs": [
    {
     "data": {
      "text/plain": [
       "(260096, 13)"
      ]
     },
     "execution_count": 5,
     "metadata": {},
     "output_type": "execute_result"
    }
   ],
   "source": [
    "#Quantidades de Linhas\n",
    "df.shape"
   ]
  },
  {
   "cell_type": "code",
   "execution_count": 6,
   "metadata": {},
   "outputs": [
    {
     "data": {
      "text/plain": [
       "DataEmissao      datetime64[ns]\n",
       "NFe                       int64\n",
       "cdProduto                 int64\n",
       "Produto                  object\n",
       "Grupo Produto            object\n",
       "Linha Produto            object\n",
       "cdVendedor                int64\n",
       "Vendedor                 object\n",
       "Supervisor               object\n",
       "Gerente                  object\n",
       "Equipe Vendas            object\n",
       "QtdItens                  int64\n",
       "ValorUnitario           float64\n",
       "dtype: object"
      ]
     },
     "execution_count": 6,
     "metadata": {},
     "output_type": "execute_result"
    }
   ],
   "source": [
    "df.dtypes"
   ]
  },
  {
   "cell_type": "code",
   "execution_count": 7,
   "metadata": {},
   "outputs": [
    {
     "data": {
      "text/plain": [
       "DataEmissao      0\n",
       "NFe              0\n",
       "cdProduto        0\n",
       "Produto          0\n",
       "Grupo Produto    0\n",
       "Linha Produto    0\n",
       "cdVendedor       0\n",
       "Vendedor         0\n",
       "Supervisor       0\n",
       "Gerente          0\n",
       "Equipe Vendas    0\n",
       "QtdItens         0\n",
       "ValorUnitario    0\n",
       "dtype: int64"
      ]
     },
     "execution_count": 7,
     "metadata": {},
     "output_type": "execute_result"
    }
   ],
   "source": [
    "#valores faltantes\n",
    "df.isnull().sum()"
   ]
  },
  {
   "cell_type": "code",
   "execution_count": 8,
   "metadata": {},
   "outputs": [
    {
     "data": {
      "text/html": [
       "<div>\n",
       "<style scoped>\n",
       "    .dataframe tbody tr th:only-of-type {\n",
       "        vertical-align: middle;\n",
       "    }\n",
       "\n",
       "    .dataframe tbody tr th {\n",
       "        vertical-align: top;\n",
       "    }\n",
       "\n",
       "    .dataframe thead th {\n",
       "        text-align: right;\n",
       "    }\n",
       "</style>\n",
       "<table border=\"1\" class=\"dataframe\">\n",
       "  <thead>\n",
       "    <tr style=\"text-align: right;\">\n",
       "      <th></th>\n",
       "      <th>DataEmissao</th>\n",
       "      <th>NFe</th>\n",
       "      <th>cdProduto</th>\n",
       "      <th>Produto</th>\n",
       "      <th>Grupo Produto</th>\n",
       "      <th>Linha Produto</th>\n",
       "      <th>cdVendedor</th>\n",
       "      <th>Vendedor</th>\n",
       "      <th>Supervisor</th>\n",
       "      <th>Gerente</th>\n",
       "      <th>Equipe Vendas</th>\n",
       "      <th>QtdItens</th>\n",
       "      <th>ValorUnitario</th>\n",
       "    </tr>\n",
       "  </thead>\n",
       "  <tbody>\n",
       "    <tr>\n",
       "      <th>0</th>\n",
       "      <td>2017-01-16</td>\n",
       "      <td>1491303</td>\n",
       "      <td>271</td>\n",
       "      <td>Produto 271</td>\n",
       "      <td>Fermentos</td>\n",
       "      <td>Alimentos</td>\n",
       "      <td>144</td>\n",
       "      <td>Felipe Goncalves</td>\n",
       "      <td>Sofia Ribeiro</td>\n",
       "      <td>Gabriel Azevedo</td>\n",
       "      <td>Online</td>\n",
       "      <td>20</td>\n",
       "      <td>1.93</td>\n",
       "    </tr>\n",
       "    <tr>\n",
       "      <th>1</th>\n",
       "      <td>2017-01-16</td>\n",
       "      <td>1491303</td>\n",
       "      <td>168</td>\n",
       "      <td>Produto 168</td>\n",
       "      <td>Café em Cápsulas</td>\n",
       "      <td>Alimentos</td>\n",
       "      <td>144</td>\n",
       "      <td>Felipe Goncalves</td>\n",
       "      <td>Sofia Ribeiro</td>\n",
       "      <td>Gabriel Azevedo</td>\n",
       "      <td>Online</td>\n",
       "      <td>4</td>\n",
       "      <td>6.30</td>\n",
       "    </tr>\n",
       "    <tr>\n",
       "      <th>2</th>\n",
       "      <td>2017-01-16</td>\n",
       "      <td>1491303</td>\n",
       "      <td>118</td>\n",
       "      <td>Produto 118</td>\n",
       "      <td>Temperos</td>\n",
       "      <td>Alimentos</td>\n",
       "      <td>144</td>\n",
       "      <td>Felipe Goncalves</td>\n",
       "      <td>Sofia Ribeiro</td>\n",
       "      <td>Gabriel Azevedo</td>\n",
       "      <td>Online</td>\n",
       "      <td>27</td>\n",
       "      <td>2.81</td>\n",
       "    </tr>\n",
       "    <tr>\n",
       "      <th>3</th>\n",
       "      <td>2017-01-16</td>\n",
       "      <td>1491303</td>\n",
       "      <td>1126</td>\n",
       "      <td>Produto 1126</td>\n",
       "      <td>Farofas</td>\n",
       "      <td>Alimentos</td>\n",
       "      <td>144</td>\n",
       "      <td>Felipe Goncalves</td>\n",
       "      <td>Sofia Ribeiro</td>\n",
       "      <td>Gabriel Azevedo</td>\n",
       "      <td>Online</td>\n",
       "      <td>3</td>\n",
       "      <td>28.82</td>\n",
       "    </tr>\n",
       "    <tr>\n",
       "      <th>4</th>\n",
       "      <td>2017-01-16</td>\n",
       "      <td>1491303</td>\n",
       "      <td>1521</td>\n",
       "      <td>Produto 1521</td>\n",
       "      <td>Café em Cápsulas</td>\n",
       "      <td>Alimentos</td>\n",
       "      <td>144</td>\n",
       "      <td>Felipe Goncalves</td>\n",
       "      <td>Sofia Ribeiro</td>\n",
       "      <td>Gabriel Azevedo</td>\n",
       "      <td>Online</td>\n",
       "      <td>6</td>\n",
       "      <td>3.73</td>\n",
       "    </tr>\n",
       "    <tr>\n",
       "      <th>...</th>\n",
       "      <td>...</td>\n",
       "      <td>...</td>\n",
       "      <td>...</td>\n",
       "      <td>...</td>\n",
       "      <td>...</td>\n",
       "      <td>...</td>\n",
       "      <td>...</td>\n",
       "      <td>...</td>\n",
       "      <td>...</td>\n",
       "      <td>...</td>\n",
       "      <td>...</td>\n",
       "      <td>...</td>\n",
       "      <td>...</td>\n",
       "    </tr>\n",
       "    <tr>\n",
       "      <th>260086</th>\n",
       "      <td>2018-12-26</td>\n",
       "      <td>2175208</td>\n",
       "      <td>2577</td>\n",
       "      <td>Produto 2577</td>\n",
       "      <td>Óleos</td>\n",
       "      <td>Alimentos</td>\n",
       "      <td>285</td>\n",
       "      <td>Mateus Costa</td>\n",
       "      <td>Sofia Ribeiro</td>\n",
       "      <td>Gabriel Azevedo</td>\n",
       "      <td>Online</td>\n",
       "      <td>8</td>\n",
       "      <td>1.96</td>\n",
       "    </tr>\n",
       "    <tr>\n",
       "      <th>260087</th>\n",
       "      <td>2018-12-26</td>\n",
       "      <td>2175208</td>\n",
       "      <td>839</td>\n",
       "      <td>Produto 839</td>\n",
       "      <td>Óleos</td>\n",
       "      <td>Alimentos</td>\n",
       "      <td>285</td>\n",
       "      <td>Mateus Costa</td>\n",
       "      <td>Sofia Ribeiro</td>\n",
       "      <td>Gabriel Azevedo</td>\n",
       "      <td>Online</td>\n",
       "      <td>27</td>\n",
       "      <td>1.78</td>\n",
       "    </tr>\n",
       "    <tr>\n",
       "      <th>260088</th>\n",
       "      <td>2018-12-26</td>\n",
       "      <td>2175208</td>\n",
       "      <td>838</td>\n",
       "      <td>Produto 838</td>\n",
       "      <td>Óleos</td>\n",
       "      <td>Alimentos</td>\n",
       "      <td>285</td>\n",
       "      <td>Mateus Costa</td>\n",
       "      <td>Sofia Ribeiro</td>\n",
       "      <td>Gabriel Azevedo</td>\n",
       "      <td>Online</td>\n",
       "      <td>27</td>\n",
       "      <td>1.78</td>\n",
       "    </tr>\n",
       "    <tr>\n",
       "      <th>260089</th>\n",
       "      <td>2018-12-26</td>\n",
       "      <td>2175208</td>\n",
       "      <td>2233</td>\n",
       "      <td>Produto 2233</td>\n",
       "      <td>Óleos</td>\n",
       "      <td>Alimentos</td>\n",
       "      <td>285</td>\n",
       "      <td>Mateus Costa</td>\n",
       "      <td>Sofia Ribeiro</td>\n",
       "      <td>Gabriel Azevedo</td>\n",
       "      <td>Online</td>\n",
       "      <td>30</td>\n",
       "      <td>1.26</td>\n",
       "    </tr>\n",
       "    <tr>\n",
       "      <th>260090</th>\n",
       "      <td>2018-12-26</td>\n",
       "      <td>2175208</td>\n",
       "      <td>1154</td>\n",
       "      <td>Produto 1154</td>\n",
       "      <td>Pipocas</td>\n",
       "      <td>Alimentos</td>\n",
       "      <td>285</td>\n",
       "      <td>Mateus Costa</td>\n",
       "      <td>Sofia Ribeiro</td>\n",
       "      <td>Gabriel Azevedo</td>\n",
       "      <td>Online</td>\n",
       "      <td>24</td>\n",
       "      <td>2.94</td>\n",
       "    </tr>\n",
       "  </tbody>\n",
       "</table>\n",
       "<p>260091 rows × 13 columns</p>\n",
       "</div>"
      ],
      "text/plain": [
       "       DataEmissao      NFe  cdProduto       Produto     Grupo Produto  \\\n",
       "0       2017-01-16  1491303        271   Produto 271         Fermentos   \n",
       "1       2017-01-16  1491303        168   Produto 168  Café em Cápsulas   \n",
       "2       2017-01-16  1491303        118   Produto 118          Temperos   \n",
       "3       2017-01-16  1491303       1126  Produto 1126           Farofas   \n",
       "4       2017-01-16  1491303       1521  Produto 1521  Café em Cápsulas   \n",
       "...            ...      ...        ...           ...               ...   \n",
       "260086  2018-12-26  2175208       2577  Produto 2577             Óleos   \n",
       "260087  2018-12-26  2175208        839   Produto 839             Óleos   \n",
       "260088  2018-12-26  2175208        838   Produto 838             Óleos   \n",
       "260089  2018-12-26  2175208       2233  Produto 2233             Óleos   \n",
       "260090  2018-12-26  2175208       1154  Produto 1154           Pipocas   \n",
       "\n",
       "       Linha Produto  cdVendedor          Vendedor     Supervisor  \\\n",
       "0          Alimentos         144  Felipe Goncalves  Sofia Ribeiro   \n",
       "1          Alimentos         144  Felipe Goncalves  Sofia Ribeiro   \n",
       "2          Alimentos         144  Felipe Goncalves  Sofia Ribeiro   \n",
       "3          Alimentos         144  Felipe Goncalves  Sofia Ribeiro   \n",
       "4          Alimentos         144  Felipe Goncalves  Sofia Ribeiro   \n",
       "...              ...         ...               ...            ...   \n",
       "260086     Alimentos         285      Mateus Costa  Sofia Ribeiro   \n",
       "260087     Alimentos         285      Mateus Costa  Sofia Ribeiro   \n",
       "260088     Alimentos         285      Mateus Costa  Sofia Ribeiro   \n",
       "260089     Alimentos         285      Mateus Costa  Sofia Ribeiro   \n",
       "260090     Alimentos         285      Mateus Costa  Sofia Ribeiro   \n",
       "\n",
       "                Gerente Equipe Vendas  QtdItens  ValorUnitario  \n",
       "0       Gabriel Azevedo        Online        20           1.93  \n",
       "1       Gabriel Azevedo        Online         4           6.30  \n",
       "2       Gabriel Azevedo        Online        27           2.81  \n",
       "3       Gabriel Azevedo        Online         3          28.82  \n",
       "4       Gabriel Azevedo        Online         6           3.73  \n",
       "...                 ...           ...       ...            ...  \n",
       "260086  Gabriel Azevedo        Online         8           1.96  \n",
       "260087  Gabriel Azevedo        Online        27           1.78  \n",
       "260088  Gabriel Azevedo        Online        27           1.78  \n",
       "260089  Gabriel Azevedo        Online        30           1.26  \n",
       "260090  Gabriel Azevedo        Online        24           2.94  \n",
       "\n",
       "[260091 rows x 13 columns]"
      ]
     },
     "execution_count": 8,
     "metadata": {},
     "output_type": "execute_result"
    }
   ],
   "source": [
    "# 5 primeiras linhas\n",
    "df.head(-5)"
   ]
  },
  {
   "cell_type": "code",
   "execution_count": 9,
   "metadata": {},
   "outputs": [],
   "source": [
    "#alterando tipo de dados das colulas NFe, cdProduto, cdVendedor\n",
    "df[\"NFe\"] = df[\"NFe\"].astype(\"object\")\n",
    "df[\"cdProduto\"] = df[\"cdProduto\"].astype(\"object\")\n",
    "df[\"cdVendedor\"] = df[\"cdVendedor\"].astype(\"object\")\n"
   ]
  },
  {
   "cell_type": "code",
   "execution_count": 10,
   "metadata": {},
   "outputs": [
    {
     "data": {
      "text/plain": [
       "DataEmissao      datetime64[ns]\n",
       "NFe                      object\n",
       "cdProduto                object\n",
       "Produto                  object\n",
       "Grupo Produto            object\n",
       "Linha Produto            object\n",
       "cdVendedor               object\n",
       "Vendedor                 object\n",
       "Supervisor               object\n",
       "Gerente                  object\n",
       "Equipe Vendas            object\n",
       "QtdItens                  int64\n",
       "ValorUnitario           float64\n",
       "dtype: object"
      ]
     },
     "execution_count": 10,
     "metadata": {},
     "output_type": "execute_result"
    }
   ],
   "source": [
    "df.dtypes"
   ]
  },
  {
   "cell_type": "code",
   "execution_count": 11,
   "metadata": {},
   "outputs": [],
   "source": [
    "#Faturamento\n",
    "df[\"Faturamento\"] = df[\"QtdItens\"].mul(df[\"ValorUnitario\"])"
   ]
  },
  {
   "cell_type": "code",
   "execution_count": 12,
   "metadata": {},
   "outputs": [
    {
     "data": {
      "text/html": [
       "<div>\n",
       "<style scoped>\n",
       "    .dataframe tbody tr th:only-of-type {\n",
       "        vertical-align: middle;\n",
       "    }\n",
       "\n",
       "    .dataframe tbody tr th {\n",
       "        vertical-align: top;\n",
       "    }\n",
       "\n",
       "    .dataframe thead th {\n",
       "        text-align: right;\n",
       "    }\n",
       "</style>\n",
       "<table border=\"1\" class=\"dataframe\">\n",
       "  <thead>\n",
       "    <tr style=\"text-align: right;\">\n",
       "      <th></th>\n",
       "      <th>DataEmissao</th>\n",
       "      <th>NFe</th>\n",
       "      <th>cdProduto</th>\n",
       "      <th>Produto</th>\n",
       "      <th>Grupo Produto</th>\n",
       "      <th>Linha Produto</th>\n",
       "      <th>cdVendedor</th>\n",
       "      <th>Vendedor</th>\n",
       "      <th>Supervisor</th>\n",
       "      <th>Gerente</th>\n",
       "      <th>Equipe Vendas</th>\n",
       "      <th>QtdItens</th>\n",
       "      <th>ValorUnitario</th>\n",
       "      <th>Faturamento</th>\n",
       "    </tr>\n",
       "  </thead>\n",
       "  <tbody>\n",
       "    <tr>\n",
       "      <th>0</th>\n",
       "      <td>2017-01-16</td>\n",
       "      <td>1491303</td>\n",
       "      <td>271</td>\n",
       "      <td>Produto 271</td>\n",
       "      <td>Fermentos</td>\n",
       "      <td>Alimentos</td>\n",
       "      <td>144</td>\n",
       "      <td>Felipe Goncalves</td>\n",
       "      <td>Sofia Ribeiro</td>\n",
       "      <td>Gabriel Azevedo</td>\n",
       "      <td>Online</td>\n",
       "      <td>20</td>\n",
       "      <td>1.93</td>\n",
       "      <td>38.60</td>\n",
       "    </tr>\n",
       "    <tr>\n",
       "      <th>1</th>\n",
       "      <td>2017-01-16</td>\n",
       "      <td>1491303</td>\n",
       "      <td>168</td>\n",
       "      <td>Produto 168</td>\n",
       "      <td>Café em Cápsulas</td>\n",
       "      <td>Alimentos</td>\n",
       "      <td>144</td>\n",
       "      <td>Felipe Goncalves</td>\n",
       "      <td>Sofia Ribeiro</td>\n",
       "      <td>Gabriel Azevedo</td>\n",
       "      <td>Online</td>\n",
       "      <td>4</td>\n",
       "      <td>6.30</td>\n",
       "      <td>25.20</td>\n",
       "    </tr>\n",
       "    <tr>\n",
       "      <th>2</th>\n",
       "      <td>2017-01-16</td>\n",
       "      <td>1491303</td>\n",
       "      <td>118</td>\n",
       "      <td>Produto 118</td>\n",
       "      <td>Temperos</td>\n",
       "      <td>Alimentos</td>\n",
       "      <td>144</td>\n",
       "      <td>Felipe Goncalves</td>\n",
       "      <td>Sofia Ribeiro</td>\n",
       "      <td>Gabriel Azevedo</td>\n",
       "      <td>Online</td>\n",
       "      <td>27</td>\n",
       "      <td>2.81</td>\n",
       "      <td>75.87</td>\n",
       "    </tr>\n",
       "  </tbody>\n",
       "</table>\n",
       "</div>"
      ],
      "text/plain": [
       "  DataEmissao      NFe cdProduto      Produto     Grupo Produto Linha Produto  \\\n",
       "0  2017-01-16  1491303       271  Produto 271         Fermentos     Alimentos   \n",
       "1  2017-01-16  1491303       168  Produto 168  Café em Cápsulas     Alimentos   \n",
       "2  2017-01-16  1491303       118  Produto 118          Temperos     Alimentos   \n",
       "\n",
       "  cdVendedor          Vendedor     Supervisor          Gerente Equipe Vendas  \\\n",
       "0        144  Felipe Goncalves  Sofia Ribeiro  Gabriel Azevedo        Online   \n",
       "1        144  Felipe Goncalves  Sofia Ribeiro  Gabriel Azevedo        Online   \n",
       "2        144  Felipe Goncalves  Sofia Ribeiro  Gabriel Azevedo        Online   \n",
       "\n",
       "   QtdItens  ValorUnitario  Faturamento  \n",
       "0        20           1.93        38.60  \n",
       "1         4           6.30        25.20  \n",
       "2        27           2.81        75.87  "
      ]
     },
     "execution_count": 12,
     "metadata": {},
     "output_type": "execute_result"
    }
   ],
   "source": [
    "df.head(3)"
   ]
  },
  {
   "cell_type": "code",
   "execution_count": 13,
   "metadata": {},
   "outputs": [
    {
     "data": {
      "text/plain": [
       "17909232.49"
      ]
     },
     "execution_count": 13,
     "metadata": {},
     "output_type": "execute_result"
    }
   ],
   "source": [
    "#Faturamento total\n",
    "round(df[\"Faturamento\"].sum(), 2)"
   ]
  },
  {
   "cell_type": "code",
   "execution_count": 14,
   "metadata": {},
   "outputs": [],
   "source": [
    "pd.options.display.float_format = '{:20,.2f}'.format"
   ]
  },
  {
   "cell_type": "code",
   "execution_count": 15,
   "metadata": {},
   "outputs": [
    {
     "data": {
      "text/plain": [
       "Gerente\n",
       "Gabriel Azevedo           9,212,165.98\n",
       "Victor Castro             8,697,066.51\n",
       "Name: Faturamento, dtype: float64"
      ]
     },
     "execution_count": 15,
     "metadata": {},
     "output_type": "execute_result"
    }
   ],
   "source": [
    "#Faturamento por Gerente\n",
    "df.groupby(\"Gerente\")[\"Faturamento\"].sum()"
   ]
  },
  {
   "cell_type": "code",
   "execution_count": 16,
   "metadata": {},
   "outputs": [
    {
     "data": {
      "text/plain": [
       "Supervisor\n",
       "Diego Araujo             6,315,114.25\n",
       "Diogo Carvalho           6,098,515.78\n",
       "Emily Rocha              1,560,527.65\n",
       "Fernando Silva             821,424.61\n",
       "Sofia Ribeiro            3,113,650.20\n",
       "Name: Faturamento, dtype: float64"
      ]
     },
     "execution_count": 16,
     "metadata": {},
     "output_type": "execute_result"
    }
   ],
   "source": [
    "#Faturamento por Supervisor\n",
    "df.groupby(\"Supervisor\")[\"Faturamento\"].sum()"
   ]
  },
  {
   "cell_type": "code",
   "execution_count": 17,
   "metadata": {},
   "outputs": [
    {
     "data": {
      "text/plain": [
       "Vendedor\n",
       "Carla Ferreira             4,707,402.55\n",
       "Julio Lima                 3,301,482.32\n",
       "Gustavo Gomes              2,447,136.24\n",
       "Felipe Goncalves           1,676,337.10\n",
       "Leonardo Cardoso           1,607,711.70\n",
       "Isabella Sousa               870,301.84\n",
       "Kaua Araujo                  821,424.61\n",
       "Mateus Costa                 785,240.57\n",
       "Gustavo Barros               664,172.30\n",
       "Julia Silva                  652,072.53\n",
       "Estevan Souza                349,897.22\n",
       "Julieta Gomes                 26,053.51\n",
       "Name: Faturamento, dtype: float64"
      ]
     },
     "execution_count": 17,
     "metadata": {},
     "output_type": "execute_result"
    }
   ],
   "source": [
    "#Faturamento por Vendedor\n",
    "df.groupby(\"Vendedor\")[\"Faturamento\"].sum().sort_values(ascending=False)"
   ]
  },
  {
   "cell_type": "code",
   "execution_count": 18,
   "metadata": {},
   "outputs": [
    {
     "data": {
      "text/plain": [
       "Linha Produto\n",
       "Alimentos          16,366,811.55\n",
       "Bebidas             1,542,420.94\n",
       "Name: Faturamento, dtype: float64"
      ]
     },
     "execution_count": 18,
     "metadata": {},
     "output_type": "execute_result"
    }
   ],
   "source": [
    "# produto mais vendido por Linha Produto\t\n",
    "df.groupby(\"Linha Produto\")[\"Faturamento\"].sum()"
   ]
  },
  {
   "cell_type": "code",
   "execution_count": 20,
   "metadata": {},
   "outputs": [
    {
     "data": {
      "image/png": "[encoded data removed]",
      "text/plain": [
       "<Figure size 800x550 with 1 Axes>"
      ]
     },
     "metadata": {},
     "output_type": "display_data"
    }
   ],
   "source": [
    "# produto mais vendido por Grupo Produto\t\n",
    "df.groupby(\"Grupo Produto\")[\"Faturamento\"].sum().sort_values(ascending=True).plot.barh(title=\"Grupo de Produtos mais vendidos\")\n",
    "plt.xlabel(\"Faturamento\")\n",
    "plt.ylabel(\"Produtos\");"
   ]
  },
  {
   "cell_type": "code",
   "execution_count": 21,
   "metadata": {},
   "outputs": [
    {
     "data": {
      "image/png": "[encoded data removed]",
      "text/plain": [
       "<Figure size 800x550 with 1 Axes>"
      ]
     },
     "metadata": {},
     "output_type": "display_data"
    }
   ],
   "source": [
    "#Faturamento por ano\n",
    "df.groupby(df[\"DataEmissao\"].dt.year)[\"Faturamento\"].sum().plot.bar(title=\"Lucro por ano\")\n",
    "plt.xlabel(\"Ano\")\n",
    "plt.ylabel(\"Faturamento\")\n",
    "plt.xticks(rotation='horizontal');"
   ]
  },
  {
   "cell_type": "code",
   "execution_count": 22,
   "metadata": {},
   "outputs": [
    {
     "data": {
      "text/plain": [
       "DataEmissao  Grupo Produto    \n",
       "2018         Farinhas de Trigo           2,725,487.90\n",
       "2017         Farinhas de Trigo           1,438,405.58\n",
       "2018         Fermentos                   1,275,959.21\n",
       "             Óleos                       1,274,075.75\n",
       "             Farinhas                      970,606.99\n",
       "                                         ...         \n",
       "2019         Polvilhos                       1,268.06\n",
       "2017         Molhos de Tomate                  859.90\n",
       "2018         Molhos de Tomate                  738.90\n",
       "2019         Molhos de Tomate                  333.88\n",
       "             Chás                              333.87\n",
       "Name: Faturamento, Length: 69, dtype: float64"
      ]
     },
     "execution_count": 22,
     "metadata": {},
     "output_type": "execute_result"
    }
   ],
   "source": [
    "#Faturamento por ano de Grupo Produto\n",
    "df.groupby([df[\"DataEmissao\"].dt.year, \"Grupo Produto\"])[\"Faturamento\"].sum().sort_values(ascending=False)"
   ]
  },
  {
   "cell_type": "code",
   "execution_count": 23,
   "metadata": {},
   "outputs": [
    {
     "data": {
      "text/plain": [
       "DataEmissao  Gerente        \n",
       "2018         Gabriel Azevedo           5,497,084.86\n",
       "             Victor Castro             4,717,724.57\n",
       "2017         Victor Castro             3,541,817.15\n",
       "             Gabriel Azevedo           3,106,404.90\n",
       "2019         Gabriel Azevedo             608,676.22\n",
       "             Victor Castro               437,524.79\n",
       "Name: Faturamento, dtype: float64"
      ]
     },
     "execution_count": 23,
     "metadata": {},
     "output_type": "execute_result"
    }
   ],
   "source": [
    "#Vendas por gerente ao ano\n",
    "df.groupby([df[\"DataEmissao\"].dt.year, \"Gerente\"])[\"Faturamento\"].sum().sort_values(ascending=False)"
   ]
  },
  {
   "cell_type": "markdown",
   "metadata": {},
   "source": [
    "# Kpi's "
   ]
  },
  {
   "cell_type": "code",
   "execution_count": 24,
   "metadata": {},
   "outputs": [
    {
     "data": {
      "text/html": [
       "<div>\n",
       "<style scoped>\n",
       "    .dataframe tbody tr th:only-of-type {\n",
       "        vertical-align: middle;\n",
       "    }\n",
       "\n",
       "    .dataframe tbody tr th {\n",
       "        vertical-align: top;\n",
       "    }\n",
       "\n",
       "    .dataframe thead th {\n",
       "        text-align: right;\n",
       "    }\n",
       "</style>\n",
       "<table border=\"1\" class=\"dataframe\">\n",
       "  <thead>\n",
       "    <tr style=\"text-align: right;\">\n",
       "      <th></th>\n",
       "      <th>DataEmissao</th>\n",
       "      <th>NFe</th>\n",
       "      <th>cdProduto</th>\n",
       "      <th>Produto</th>\n",
       "      <th>Grupo Produto</th>\n",
       "      <th>Linha Produto</th>\n",
       "      <th>cdVendedor</th>\n",
       "      <th>Vendedor</th>\n",
       "      <th>Supervisor</th>\n",
       "      <th>Gerente</th>\n",
       "      <th>Equipe Vendas</th>\n",
       "      <th>QtdItens</th>\n",
       "      <th>ValorUnitario</th>\n",
       "      <th>Faturamento</th>\n",
       "    </tr>\n",
       "  </thead>\n",
       "  <tbody>\n",
       "    <tr>\n",
       "      <th>0</th>\n",
       "      <td>2017-01-16</td>\n",
       "      <td>1491303</td>\n",
       "      <td>271</td>\n",
       "      <td>Produto 271</td>\n",
       "      <td>Fermentos</td>\n",
       "      <td>Alimentos</td>\n",
       "      <td>144</td>\n",
       "      <td>Felipe Goncalves</td>\n",
       "      <td>Sofia Ribeiro</td>\n",
       "      <td>Gabriel Azevedo</td>\n",
       "      <td>Online</td>\n",
       "      <td>20</td>\n",
       "      <td>1.93</td>\n",
       "      <td>38.60</td>\n",
       "    </tr>\n",
       "    <tr>\n",
       "      <th>1</th>\n",
       "      <td>2017-01-16</td>\n",
       "      <td>1491303</td>\n",
       "      <td>168</td>\n",
       "      <td>Produto 168</td>\n",
       "      <td>Café em Cápsulas</td>\n",
       "      <td>Alimentos</td>\n",
       "      <td>144</td>\n",
       "      <td>Felipe Goncalves</td>\n",
       "      <td>Sofia Ribeiro</td>\n",
       "      <td>Gabriel Azevedo</td>\n",
       "      <td>Online</td>\n",
       "      <td>4</td>\n",
       "      <td>6.30</td>\n",
       "      <td>25.20</td>\n",
       "    </tr>\n",
       "    <tr>\n",
       "      <th>2</th>\n",
       "      <td>2017-01-16</td>\n",
       "      <td>1491303</td>\n",
       "      <td>118</td>\n",
       "      <td>Produto 118</td>\n",
       "      <td>Temperos</td>\n",
       "      <td>Alimentos</td>\n",
       "      <td>144</td>\n",
       "      <td>Felipe Goncalves</td>\n",
       "      <td>Sofia Ribeiro</td>\n",
       "      <td>Gabriel Azevedo</td>\n",
       "      <td>Online</td>\n",
       "      <td>27</td>\n",
       "      <td>2.81</td>\n",
       "      <td>75.87</td>\n",
       "    </tr>\n",
       "    <tr>\n",
       "      <th>3</th>\n",
       "      <td>2017-01-16</td>\n",
       "      <td>1491303</td>\n",
       "      <td>1126</td>\n",
       "      <td>Produto 1126</td>\n",
       "      <td>Farofas</td>\n",
       "      <td>Alimentos</td>\n",
       "      <td>144</td>\n",
       "      <td>Felipe Goncalves</td>\n",
       "      <td>Sofia Ribeiro</td>\n",
       "      <td>Gabriel Azevedo</td>\n",
       "      <td>Online</td>\n",
       "      <td>3</td>\n",
       "      <td>28.82</td>\n",
       "      <td>86.46</td>\n",
       "    </tr>\n",
       "    <tr>\n",
       "      <th>4</th>\n",
       "      <td>2017-01-16</td>\n",
       "      <td>1491303</td>\n",
       "      <td>1521</td>\n",
       "      <td>Produto 1521</td>\n",
       "      <td>Café em Cápsulas</td>\n",
       "      <td>Alimentos</td>\n",
       "      <td>144</td>\n",
       "      <td>Felipe Goncalves</td>\n",
       "      <td>Sofia Ribeiro</td>\n",
       "      <td>Gabriel Azevedo</td>\n",
       "      <td>Online</td>\n",
       "      <td>6</td>\n",
       "      <td>3.73</td>\n",
       "      <td>22.38</td>\n",
       "    </tr>\n",
       "  </tbody>\n",
       "</table>\n",
       "</div>"
      ],
      "text/plain": [
       "  DataEmissao      NFe cdProduto       Produto     Grupo Produto  \\\n",
       "0  2017-01-16  1491303       271   Produto 271         Fermentos   \n",
       "1  2017-01-16  1491303       168   Produto 168  Café em Cápsulas   \n",
       "2  2017-01-16  1491303       118   Produto 118          Temperos   \n",
       "3  2017-01-16  1491303      1126  Produto 1126           Farofas   \n",
       "4  2017-01-16  1491303      1521  Produto 1521  Café em Cápsulas   \n",
       "\n",
       "  Linha Produto cdVendedor          Vendedor     Supervisor          Gerente  \\\n",
       "0     Alimentos        144  Felipe Goncalves  Sofia Ribeiro  Gabriel Azevedo   \n",
       "1     Alimentos        144  Felipe Goncalves  Sofia Ribeiro  Gabriel Azevedo   \n",
       "2     Alimentos        144  Felipe Goncalves  Sofia Ribeiro  Gabriel Azevedo   \n",
       "3     Alimentos        144  Felipe Goncalves  Sofia Ribeiro  Gabriel Azevedo   \n",
       "4     Alimentos        144  Felipe Goncalves  Sofia Ribeiro  Gabriel Azevedo   \n",
       "\n",
       "  Equipe Vendas  QtdItens        ValorUnitario          Faturamento  \n",
       "0        Online        20                 1.93                38.60  \n",
       "1        Online         4                 6.30                25.20  \n",
       "2        Online        27                 2.81                75.87  \n",
       "3        Online         3                28.82                86.46  \n",
       "4        Online         6                 3.73                22.38  "
      ]
     },
     "execution_count": 24,
     "metadata": {},
     "output_type": "execute_result"
    }
   ],
   "source": [
    "df.head(5)"
   ]
  },
  {
   "cell_type": "code",
   "execution_count": 25,
   "metadata": {},
   "outputs": [
    {
     "data": {
      "text/plain": [
       "340.74"
      ]
     },
     "execution_count": 25,
     "metadata": {},
     "output_type": "execute_result"
    }
   ],
   "source": [
    "#Ticket Médio, o nunique retorna a quantidade de valores unicos do dataframe\n",
    "ticket_Medio = df[\"Faturamento\"].sum() / df[\"NFe\"].nunique()\n",
    "\n",
    "round(ticket_Medio, 2)"
   ]
  },
  {
   "cell_type": "code",
   "execution_count": 26,
   "metadata": {},
   "outputs": [
    {
     "data": {
      "text/plain": [
       "260096"
      ]
     },
     "execution_count": 26,
     "metadata": {},
     "output_type": "execute_result"
    }
   ],
   "source": [
    "#contar lista\n",
    "def total_elemento(NFe):\n",
    "    count = 0\n",
    "    for lista in NFe:\n",
    "        count += 1\n",
    "    return count\n",
    "\n",
    "total_elemento(df[\"NFe\"])\n",
    "    "
   ]
  },
  {
   "cell_type": "code",
   "execution_count": 27,
   "metadata": {},
   "outputs": [
    {
     "data": {
      "text/plain": [
       "798"
      ]
     },
     "execution_count": 27,
     "metadata": {},
     "output_type": "execute_result"
    }
   ],
   "source": [
    "#Positivação\n",
    "\n",
    "Positivacao = df[\"cdProduto\"].nunique()\n",
    "\n",
    "Positivacao\n",
    "\n"
   ]
  },
  {
   "cell_type": "code",
   "execution_count": 28,
   "metadata": {},
   "outputs": [
    {
     "data": {
      "text/plain": [
       "1.86"
      ]
     },
     "execution_count": 28,
     "metadata": {},
     "output_type": "execute_result"
    }
   ],
   "source": [
    "# Margem de  contribuição e ROI\n",
    "mc = 0.35\n",
    "\n",
    "dado_1 = (df[\"Faturamento\"].sum() * mc)\n",
    "Roi = (df[\"Faturamento\"].sum() - dado_1) / dado_1\n",
    "\n",
    "round(Roi, 2)\n"
   ]
  },
  {
   "cell_type": "code",
   "execution_count": 29,
   "metadata": {},
   "outputs": [
    {
     "data": {
      "text/html": [
       "<div>\n",
       "<style scoped>\n",
       "    .dataframe tbody tr th:only-of-type {\n",
       "        vertical-align: middle;\n",
       "    }\n",
       "\n",
       "    .dataframe tbody tr th {\n",
       "        vertical-align: top;\n",
       "    }\n",
       "\n",
       "    .dataframe thead th {\n",
       "        text-align: right;\n",
       "    }\n",
       "</style>\n",
       "<table border=\"1\" class=\"dataframe\">\n",
       "  <thead>\n",
       "    <tr style=\"text-align: right;\">\n",
       "      <th></th>\n",
       "      <th>DataEmissao</th>\n",
       "      <th>NFe</th>\n",
       "      <th>cdProduto</th>\n",
       "      <th>Produto</th>\n",
       "      <th>Grupo Produto</th>\n",
       "      <th>Linha Produto</th>\n",
       "      <th>cdVendedor</th>\n",
       "      <th>Vendedor</th>\n",
       "      <th>Supervisor</th>\n",
       "      <th>Gerente</th>\n",
       "      <th>Equipe Vendas</th>\n",
       "      <th>QtdItens</th>\n",
       "      <th>ValorUnitario</th>\n",
       "      <th>Faturamento</th>\n",
       "    </tr>\n",
       "  </thead>\n",
       "  <tbody>\n",
       "    <tr>\n",
       "      <th>0</th>\n",
       "      <td>2017-01-16</td>\n",
       "      <td>1491303</td>\n",
       "      <td>271</td>\n",
       "      <td>Produto 271</td>\n",
       "      <td>Fermentos</td>\n",
       "      <td>Alimentos</td>\n",
       "      <td>144</td>\n",
       "      <td>Felipe Goncalves</td>\n",
       "      <td>Sofia Ribeiro</td>\n",
       "      <td>Gabriel Azevedo</td>\n",
       "      <td>Online</td>\n",
       "      <td>20</td>\n",
       "      <td>1.93</td>\n",
       "      <td>38.60</td>\n",
       "    </tr>\n",
       "    <tr>\n",
       "      <th>1</th>\n",
       "      <td>2017-01-16</td>\n",
       "      <td>1491303</td>\n",
       "      <td>168</td>\n",
       "      <td>Produto 168</td>\n",
       "      <td>Café em Cápsulas</td>\n",
       "      <td>Alimentos</td>\n",
       "      <td>144</td>\n",
       "      <td>Felipe Goncalves</td>\n",
       "      <td>Sofia Ribeiro</td>\n",
       "      <td>Gabriel Azevedo</td>\n",
       "      <td>Online</td>\n",
       "      <td>4</td>\n",
       "      <td>6.30</td>\n",
       "      <td>25.20</td>\n",
       "    </tr>\n",
       "    <tr>\n",
       "      <th>2</th>\n",
       "      <td>2017-01-16</td>\n",
       "      <td>1491303</td>\n",
       "      <td>118</td>\n",
       "      <td>Produto 118</td>\n",
       "      <td>Temperos</td>\n",
       "      <td>Alimentos</td>\n",
       "      <td>144</td>\n",
       "      <td>Felipe Goncalves</td>\n",
       "      <td>Sofia Ribeiro</td>\n",
       "      <td>Gabriel Azevedo</td>\n",
       "      <td>Online</td>\n",
       "      <td>27</td>\n",
       "      <td>2.81</td>\n",
       "      <td>75.87</td>\n",
       "    </tr>\n",
       "  </tbody>\n",
       "</table>\n",
       "</div>"
      ],
      "text/plain": [
       "  DataEmissao      NFe cdProduto      Produto     Grupo Produto Linha Produto  \\\n",
       "0  2017-01-16  1491303       271  Produto 271         Fermentos     Alimentos   \n",
       "1  2017-01-16  1491303       168  Produto 168  Café em Cápsulas     Alimentos   \n",
       "2  2017-01-16  1491303       118  Produto 118          Temperos     Alimentos   \n",
       "\n",
       "  cdVendedor          Vendedor     Supervisor          Gerente Equipe Vendas  \\\n",
       "0        144  Felipe Goncalves  Sofia Ribeiro  Gabriel Azevedo        Online   \n",
       "1        144  Felipe Goncalves  Sofia Ribeiro  Gabriel Azevedo        Online   \n",
       "2        144  Felipe Goncalves  Sofia Ribeiro  Gabriel Azevedo        Online   \n",
       "\n",
       "   QtdItens        ValorUnitario          Faturamento  \n",
       "0        20                 1.93                38.60  \n",
       "1         4                 6.30                25.20  \n",
       "2        27                 2.81                75.87  "
      ]
     },
     "execution_count": 29,
     "metadata": {},
     "output_type": "execute_result"
    }
   ],
   "source": [
    "df.head(3)"
   ]
  },
  {
   "cell_type": "code",
   "execution_count": 31,
   "metadata": {},
   "outputs": [
    {
     "data": {
      "text/plain": [
       "6381172"
      ]
     },
     "execution_count": 31,
     "metadata": {},
     "output_type": "execute_result"
    }
   ],
   "source": [
    "#Total de produtos vendidos\n",
    "Quantidades_itens = df[\"QtdItens\"].sum()\n",
    "Quantidades_itens"
   ]
  },
  {
   "cell_type": "code",
   "execution_count": 36,
   "metadata": {},
   "outputs": [
    {
     "data": {
      "text/plain": [
       "array(['Online', 'Varejo', 'Distribuidoras'], dtype=object)"
      ]
     },
     "execution_count": 36,
     "metadata": {},
     "output_type": "execute_result"
    }
   ],
   "source": [
    "df[\"Equipe Vendas\"].unique()"
   ]
  },
  {
   "cell_type": "code",
   "execution_count": 41,
   "metadata": {},
   "outputs": [
    {
     "data": {
      "text/plain": [
       "Equipe Vendas\n",
       "Varejo                   8,697,066.51\n",
       "Distribuidoras           6,098,515.78\n",
       "Online                   3,113,650.20\n",
       "Name: Faturamento, dtype: float64"
      ]
     },
     "execution_count": 41,
     "metadata": {},
     "output_type": "execute_result"
    }
   ],
   "source": [
    "df.groupby(df[\"Equipe Vendas\"])[\"Faturamento\"].sum().sort_values(ascending=False)"
   ]
  },
  {
   "cell_type": "code",
   "execution_count": null,
   "metadata": {},
   "outputs": [],
   "source": []
  }
 ],
 "metadata": {
  "kernelspec": {
   "display_name": "Python 3.9.7 ('base')",
   "language": "python",
   "name": "python3"
  },
  "language_info": {
   "codemirror_mode": {
    "name": "ipython",
    "version": 3
   },
   "file_extension": ".py",
   "mimetype": "text/x-python",
   "name": "python",
   "nbconvert_exporter": "python",
   "pygments_lexer": "ipython3",
   "version": "3.9.7"
  },
  "orig_nbformat": 4,
  "vscode": {
   "interpreter": {
    "hash": "8a45a08b8fb912db53777e96b7045c24096c253458240dee9d16f34287c256e1"
   }
  }
 },
 "nbformat": 4,
 "nbformat_minor": 2
}
